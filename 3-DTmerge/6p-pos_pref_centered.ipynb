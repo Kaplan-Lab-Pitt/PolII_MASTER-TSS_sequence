{
 "cells": [
  {
   "cell_type": "markdown",
   "metadata": {},
   "source": [
    "## To visualize sequence preference (relative efficiency) as sequence logo using logomaker"
   ]
  },
  {
   "cell_type": "markdown",
   "metadata": {},
   "source": [
    "python 3 codes  \n",
    "jupyter=1.0.0; pandas=1.1.5; matplotlib=3.3.1; numpy=1.19.4; ipython=7.19.0; logomaker=0.8;"
   ]
  },
  {
   "cell_type": "code",
   "execution_count": 1,
   "metadata": {},
   "outputs": [],
   "source": [
    "# Standard imports\n",
    "import pandas as pd\n",
    "import matplotlib.pyplot as plt\n",
    "import numpy as np\n",
    "get_ipython().run_line_magic('matplotlib', 'inline')\n",
    "\n",
    "# For showing images\n",
    "from IPython.display import Image\n",
    "\n",
    "# Import Logomaker\n",
    "import logomaker"
   ]
  },
  {
   "cell_type": "markdown",
   "metadata": {},
   "source": [
    "### Sequence logos of sequence preference at -11 to +1 positions, from libraries"
   ]
  },
  {
   "cell_type": "code",
   "execution_count": 2,
   "metadata": {},
   "outputs": [
    {
     "data": {
      "text/html": [
       "<div>\n",
       "<style scoped>\n",
       "    .dataframe tbody tr th:only-of-type {\n",
       "        vertical-align: middle;\n",
       "    }\n",
       "\n",
       "    .dataframe tbody tr th {\n",
       "        vertical-align: top;\n",
       "    }\n",
       "\n",
       "    .dataframe thead th {\n",
       "        text-align: right;\n",
       "    }\n",
       "</style>\n",
       "<table border=\"1\" class=\"dataframe\">\n",
       "  <thead>\n",
       "    <tr style=\"text-align: right;\">\n",
       "      <th></th>\n",
       "      <th>A</th>\n",
       "      <th>G</th>\n",
       "      <th>C</th>\n",
       "      <th>T</th>\n",
       "    </tr>\n",
       "  </thead>\n",
       "  <tbody>\n",
       "    <tr>\n",
       "      <th>0</th>\n",
       "      <td>0.000000</td>\n",
       "      <td>0.000000</td>\n",
       "      <td>0.000000</td>\n",
       "      <td>0.000000</td>\n",
       "    </tr>\n",
       "    <tr>\n",
       "      <th>1</th>\n",
       "      <td>0.000000</td>\n",
       "      <td>0.000000</td>\n",
       "      <td>0.000000</td>\n",
       "      <td>0.000000</td>\n",
       "    </tr>\n",
       "    <tr>\n",
       "      <th>2</th>\n",
       "      <td>0.000000</td>\n",
       "      <td>0.000000</td>\n",
       "      <td>0.000000</td>\n",
       "      <td>0.000000</td>\n",
       "    </tr>\n",
       "    <tr>\n",
       "      <th>3</th>\n",
       "      <td>34.859796</td>\n",
       "      <td>-11.041369</td>\n",
       "      <td>-10.214886</td>\n",
       "      <td>-13.603541</td>\n",
       "    </tr>\n",
       "    <tr>\n",
       "      <th>4</th>\n",
       "      <td>-0.905647</td>\n",
       "      <td>5.101432</td>\n",
       "      <td>-0.464201</td>\n",
       "      <td>-3.731583</td>\n",
       "    </tr>\n",
       "    <tr>\n",
       "      <th>5</th>\n",
       "      <td>-2.581530</td>\n",
       "      <td>1.825532</td>\n",
       "      <td>0.793023</td>\n",
       "      <td>-0.037025</td>\n",
       "    </tr>\n",
       "    <tr>\n",
       "      <th>6</th>\n",
       "      <td>-0.057519</td>\n",
       "      <td>-2.193522</td>\n",
       "      <td>-0.491205</td>\n",
       "      <td>2.742246</td>\n",
       "    </tr>\n",
       "    <tr>\n",
       "      <th>7</th>\n",
       "      <td>1.262964</td>\n",
       "      <td>0.216265</td>\n",
       "      <td>10.111837</td>\n",
       "      <td>-11.591067</td>\n",
       "    </tr>\n",
       "    <tr>\n",
       "      <th>8</th>\n",
       "      <td>5.457889</td>\n",
       "      <td>11.107278</td>\n",
       "      <td>-6.173799</td>\n",
       "      <td>-10.391368</td>\n",
       "    </tr>\n",
       "    <tr>\n",
       "      <th>9</th>\n",
       "      <td>-9.502638</td>\n",
       "      <td>5.438497</td>\n",
       "      <td>11.277136</td>\n",
       "      <td>-7.212996</td>\n",
       "    </tr>\n",
       "    <tr>\n",
       "      <th>10</th>\n",
       "      <td>0.000000</td>\n",
       "      <td>0.000000</td>\n",
       "      <td>7.095498</td>\n",
       "      <td>-7.095498</td>\n",
       "    </tr>\n",
       "    <tr>\n",
       "      <th>11</th>\n",
       "      <td>2.312105</td>\n",
       "      <td>-2.312105</td>\n",
       "      <td>0.000000</td>\n",
       "      <td>0.000000</td>\n",
       "    </tr>\n",
       "  </tbody>\n",
       "</table>\n",
       "</div>"
      ],
      "text/plain": [
       "            A          G          C          T\n",
       "0    0.000000   0.000000   0.000000   0.000000\n",
       "1    0.000000   0.000000   0.000000   0.000000\n",
       "2    0.000000   0.000000   0.000000   0.000000\n",
       "3   34.859796 -11.041369 -10.214886 -13.603541\n",
       "4   -0.905647   5.101432  -0.464201  -3.731583\n",
       "5   -2.581530   1.825532   0.793023  -0.037025\n",
       "6   -0.057519  -2.193522  -0.491205   2.742246\n",
       "7    1.262964   0.216265  10.111837 -11.591067\n",
       "8    5.457889  11.107278  -6.173799 -10.391368\n",
       "9   -9.502638   5.438497  11.277136  -7.212996\n",
       "10   0.000000   0.000000   7.095498  -7.095498\n",
       "11   2.312105  -2.312105   0.000000   0.000000"
      ]
     },
     "execution_count": 2,
     "metadata": {},
     "output_type": "execute_result"
    }
   ],
   "source": [
    "# Load sequence logo values (relative efficiency), generated by <6-lib_fig.R>\n",
    "mtx_folder = \"/Users/xxxx/Documents/Txn/3-TSS_sequence_library/9-DTmerge_analysis/7-poolDs_cmbTs/6-ct4-pos_pref_centered/\"\n",
    "lib = 'NYR' # 'AYR','BYR','ARY','NYR','NNN','ANN'\n",
    "tss = '1' # -8, 1, 4\n",
    "mtx_name = lib+'_'+tss+'eff_median_centered.csv'\n",
    "\n",
    "pref = pd.read_csv(mtx_folder+mtx_name, index_col=0).reset_index()[['A','G','C','T']]\n",
    "pref"
   ]
  },
  {
   "cell_type": "code",
   "execution_count": 3,
   "metadata": {},
   "outputs": [
    {
     "data": {
      "image/png": "[encoded data removed]",
      "text/plain": [
       "<Figure size 648x360 with 1 Axes>"
      ]
     },
     "metadata": {
      "needs_background": "light"
     },
     "output_type": "display_data"
    }
   ],
   "source": [
    "# input: (-11 to +1) x ('A','G','C','T')\n",
    "# output: same width, containing positions from -11 to +1; hide some positions => shadow;\n",
    "\n",
    "# which region to be shown\n",
    "start = -8\n",
    "end = -2 # if +1, put 0\n",
    "\n",
    "pref_tmp = pref.iloc[:,:]\n",
    "pref_tmp.iloc[:11+start,:] = 0\n",
    "pref_tmp.iloc[11+end+1:,:] = 0\n",
    "\n",
    "pos_label = ['-11','-10','-9','-8', '-7', '-6', '-5', '-4', '-3', '-2', '-1', '+1'] #[(11+start-1):(11+end+1)]\n",
    "\n",
    "fig, ax = plt.subplots(1,1, figsize=[9/12*len(pos_label),5])\n",
    "logo = logomaker.Logo(pref_tmp.reset_index()[['A','G','C','T']], ax=ax)\n",
    "logo.style_glyphs_below(flip=False,) # if fliping logo below baseline\n",
    "ax.set_title(mtx_name, fontsize=20)\n",
    "ax.set_ylabel(r'Relative Efficiency', fontsize=16)\n",
    "ax.set_xlabel(r'Position Relative to TSS', fontsize=16)\n",
    "ax.set_ylim(-70, 70)\n",
    "ax.yaxis.set_tick_params(labelsize=13)\n",
    "ax.set_xticks(range(0, len(pos_label)))\n",
    "ax.set_xticklabels(pos_label, fontsize=13)\n",
    "\n",
    "if start>-11: logo.highlight_position_range(pmin=0, pmax=11+start-1, color='whitesmoke')\n",
    "logo.highlight_position_range(pmin=11+end+1, pmax=len(pos_label), color='whitesmoke')\n",
    "plt.savefig((mtx_folder+mtx_name).replace(\".csv\",\"-f\"+str(start)+\"t\"+str(end)+\".pdf\"))"
   ]
  },
  {
   "cell_type": "markdown",
   "metadata": {},
   "source": [
    "### Sequence logos of sequence preference, showing interactions i.e. coupling between positions  \n",
    "\"Coupling\" would entail a base at one position can determine the contribution or effect of a base at another psotion"
   ]
  },
  {
   "cell_type": "code",
   "execution_count": 4,
   "metadata": {},
   "outputs": [
    {
     "data": {
      "text/html": [
       "<div>\n",
       "<style scoped>\n",
       "    .dataframe tbody tr th:only-of-type {\n",
       "        vertical-align: middle;\n",
       "    }\n",
       "\n",
       "    .dataframe tbody tr th {\n",
       "        vertical-align: top;\n",
       "    }\n",
       "\n",
       "    .dataframe thead th {\n",
       "        text-align: right;\n",
       "    }\n",
       "</style>\n",
       "<table border=\"1\" class=\"dataframe\">\n",
       "  <thead>\n",
       "    <tr style=\"text-align: right;\">\n",
       "      <th></th>\n",
       "      <th>itr_name</th>\n",
       "      <th>itr_file</th>\n",
       "      <th>loc1</th>\n",
       "      <th>loc2</th>\n",
       "      <th>pos_label</th>\n",
       "      <th>xlab</th>\n",
       "      <th>ylab</th>\n",
       "    </tr>\n",
       "    <tr>\n",
       "      <th>itr_idx</th>\n",
       "      <th></th>\n",
       "      <th></th>\n",
       "      <th></th>\n",
       "      <th></th>\n",
       "      <th></th>\n",
       "      <th></th>\n",
       "      <th></th>\n",
       "    </tr>\n",
       "  </thead>\n",
       "  <tbody>\n",
       "    <tr>\n",
       "      <th>1</th>\n",
       "      <td>-9under-8</td>\n",
       "      <td>n8itr</td>\n",
       "      <td>8</td>\n",
       "      <td>12</td>\n",
       "      <td>[n8A, n8G, n8C, n8T]</td>\n",
       "      <td>-8</td>\n",
       "      <td>-9</td>\n",
       "    </tr>\n",
       "    <tr>\n",
       "      <th>2</th>\n",
       "      <td>-8under-9</td>\n",
       "      <td>n9itr</td>\n",
       "      <td>12</td>\n",
       "      <td>16</td>\n",
       "      <td>[n9A, n9G, n9C, n9T]</td>\n",
       "      <td>-9</td>\n",
       "      <td>-8</td>\n",
       "    </tr>\n",
       "  </tbody>\n",
       "</table>\n",
       "</div>"
      ],
      "text/plain": [
       "          itr_name itr_file  loc1  loc2             pos_label xlab ylab\n",
       "itr_idx                                                                \n",
       "1        -9under-8    n8itr     8    12  [n8A, n8G, n8C, n8T]   -8   -9\n",
       "2        -8under-9    n9itr    12    16  [n9A, n9G, n9C, n9T]   -9   -8"
      ]
     },
     "execution_count": 4,
     "metadata": {},
     "output_type": "execute_result"
    }
   ],
   "source": [
    "# a table contains interaction parameters\n",
    "itr_info = pd.DataFrame({'itr_idx':[1, 2],\\\n",
    "                         'itr_name':['-9under-8','-8under-9'],\\\n",
    "                         'itr_file':['n8itr','n9itr'],\\\n",
    "                         'loc1':[4*2, 4*3],\\\n",
    "                         'loc2':[4*3, 4*4],\\\n",
    "                         'pos_label':[['n8A', 'n8G', 'n8C', 'n8T'],['n9A', 'n9G', 'n9C', 'n9T']],\\\n",
    "                         'xlab':['-8', '-9'],\\\n",
    "                         'ylab':['-9', '-8']\n",
    "                        }).set_index('itr_idx')\n",
    "    # naming of 'itr_file', 'pos_label' is based on itrs master matrix of (-11 to +1)x(-11 to +1)\n",
    "itr_info"
   ]
  },
  {
   "cell_type": "code",
   "execution_count": 5,
   "metadata": {},
   "outputs": [
    {
     "data": {
      "text/html": [
       "<div>\n",
       "<style scoped>\n",
       "    .dataframe tbody tr th:only-of-type {\n",
       "        vertical-align: middle;\n",
       "    }\n",
       "\n",
       "    .dataframe tbody tr th {\n",
       "        vertical-align: top;\n",
       "    }\n",
       "\n",
       "    .dataframe thead th {\n",
       "        text-align: right;\n",
       "    }\n",
       "</style>\n",
       "<table border=\"1\" class=\"dataframe\">\n",
       "  <thead>\n",
       "    <tr style=\"text-align: right;\">\n",
       "      <th></th>\n",
       "      <th>A</th>\n",
       "      <th>G</th>\n",
       "      <th>C</th>\n",
       "      <th>T</th>\n",
       "    </tr>\n",
       "  </thead>\n",
       "  <tbody>\n",
       "    <tr>\n",
       "      <th>0</th>\n",
       "      <td>13.083668</td>\n",
       "      <td>1.813426</td>\n",
       "      <td>-6.381257</td>\n",
       "      <td>-8.515838</td>\n",
       "    </tr>\n",
       "    <tr>\n",
       "      <th>1</th>\n",
       "      <td>22.351997</td>\n",
       "      <td>-5.287664</td>\n",
       "      <td>-7.460590</td>\n",
       "      <td>-9.603743</td>\n",
       "    </tr>\n",
       "    <tr>\n",
       "      <th>2</th>\n",
       "      <td>27.402213</td>\n",
       "      <td>-7.559025</td>\n",
       "      <td>-8.681120</td>\n",
       "      <td>-11.162068</td>\n",
       "    </tr>\n",
       "    <tr>\n",
       "      <th>3</th>\n",
       "      <td>26.735213</td>\n",
       "      <td>-5.156930</td>\n",
       "      <td>-8.264347</td>\n",
       "      <td>-13.313935</td>\n",
       "    </tr>\n",
       "  </tbody>\n",
       "</table>\n",
       "</div>"
      ],
      "text/plain": [
       "           A         G         C          T\n",
       "0  13.083668  1.813426 -6.381257  -8.515838\n",
       "1  22.351997 -5.287664 -7.460590  -9.603743\n",
       "2  27.402213 -7.559025 -8.681120 -11.162068\n",
       "3  26.735213 -5.156930 -8.264347 -13.313935"
      ]
     },
     "execution_count": 5,
     "metadata": {},
     "output_type": "execute_result"
    }
   ],
   "source": [
    "# Load interaction values, generated by <6-lib_fig.R>\n",
    "mtx_folder = \"/Users/xxxx/Documents/Txn/3-TSS_sequence_library/9-DTmerge_analysis/7-poolDs_cmbTs/6-ct4-itr_centered/WT/\"\n",
    "itr_idx = 2\n",
    "mtx_name = 'WT-'+itr_info.loc[itr_idx, 'itr_file']+'-median-centered_pos.csv'\n",
    "\n",
    "#pref = pd.read_csv(mtx_folder+mtx_name, index_col=0)\n",
    "pref = pd.read_csv(mtx_folder+mtx_name, index_col=False)\\\n",
    "         .loc[itr_info.loc[itr_idx, 'loc1']:itr_info.loc[itr_idx, 'loc2']-1,].reset_index()\\\n",
    "         .loc[:,['A','G','C','T']].fillna(0)\n",
    "pref"
   ]
  },
  {
   "cell_type": "code",
   "execution_count": 6,
   "metadata": {},
   "outputs": [
    {
     "data": {
      "text/plain": [
       "[Text(0, 0, 'n9A'), Text(1, 0, 'n9G'), Text(2, 0, 'n9C'), Text(3, 0, 'n9T')]"
      ]
     },
     "execution_count": 6,
     "metadata": {},
     "output_type": "execute_result"
    },
    {
     "data": {
      "image/png": "[encoded data removed]",
      "text/plain": [
       "<Figure size 216x360 with 1 Axes>"
      ]
     },
     "metadata": {
      "needs_background": "light"
     },
     "output_type": "display_data"
    }
   ],
   "source": [
    "pos_label = itr_info.loc[itr_idx, 'pos_label']\n",
    "\n",
    "fig, ax = plt.subplots(1,1, figsize=[9/12*len(pos_label),5])\n",
    "logo = logomaker.Logo(pref, ax=ax)\n",
    "logo.style_glyphs_below(flip=False,) # whether fliping logo below baseline\n",
    "ax.set_title(mtx_name+'\\n'+itr_info.loc[itr_idx, 'itr_name'], fontsize=20)\n",
    "ax.set_ylabel('Relative Efficiency at '+itr_info.loc[itr_idx, 'ylab'], fontsize=16)\n",
    "ax.set_xlabel('base at '+itr_info.loc[itr_idx, 'xlab'], fontsize=16)\n",
    "ax.set_ylim(-30, 30)\n",
    "ax.yaxis.set_tick_params(labelsize=13)\n",
    "ax.set_xticks(range(0,pref.shape[0]))\n",
    "ax.set_xticklabels(pos_label, fontsize=13)\n",
    "\n",
    "plt.savefig((mtx_folder+mtx_name).replace(\".csv\",\"-\"+itr_info.loc[itr_idx, 'itr_name']+\".pdf\"))"
   ]
  }
 ],
 "metadata": {
  "kernelspec": {
   "display_name": "Python 3",
   "language": "python",
   "name": "python3"
  },
  "language_info": {
   "codemirror_mode": {
    "name": "ipython",
    "version": 3
   },
   "file_extension": ".py",
   "mimetype": "text/x-python",
   "name": "python",
   "nbconvert_exporter": "python",
   "pygments_lexer": "ipython3",
   "version": "3.7.9"
  }
 },
 "nbformat": 4,
 "nbformat_minor": 4
}
